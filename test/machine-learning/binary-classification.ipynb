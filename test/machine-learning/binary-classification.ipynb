{
 "cells": [
  {
   "cell_type": "code",
   "execution_count": 1,
   "id": "63eaa377",
   "metadata": {},
   "outputs": [
    {
     "name": "stdout",
     "output_type": "stream",
     "text": [
      "Classification cost (energy): 0.0\n"
     ]
    }
   ],
   "source": [
    "from qiskit import QuantumCircuit\n",
    "from qiskit.quantum_info import SparsePauliOp, Statevector\n",
    "import numpy as np\n",
    "\n",
    "# --- Fake dataset (binary labels)\n",
    "y_true = np.array([0, 1, 1, 0])  # 4 samples\n",
    "num_qubits = len(y_true)\n",
    "\n",
    "# --- Define a cost Hamiltonian\n",
    "# If label = 0 → want qubit in |0⟩ (Z=+1)\n",
    "# If label = 1 → want qubit in |1⟩ (Z=-1)\n",
    "# Cost per qubit = 0.5 * (1 - (-1)^y_true * Z)\n",
    "pauli_labels = []\n",
    "coeffs = []\n",
    "\n",
    "for i, y in enumerate(y_true):\n",
    "    sign = -1 if y == 1 else 1\n",
    "    label = ['I'] * num_qubits\n",
    "    label[i] = 'Z'\n",
    "    pauli_labels.append(''.join(label))\n",
    "    coeffs.append(0.5 * (1 - sign))\n",
    "\n",
    "hamiltonian = SparsePauliOp(pauli_labels, coeffs)\n",
    "\n",
    "# --- Prepare a classifier candidate as a basis state\n",
    "# Example classifier predicts: [0, 1, 0, 0] → bitstring = 0100\n",
    "bitstring = '0100'[::-1]  # little endian\n",
    "qc = QuantumCircuit(num_qubits)\n",
    "for i, b in enumerate(bitstring):\n",
    "    if b == '1':\n",
    "        qc.x(i)\n",
    "\n",
    "# --- Simulate the circuit\n",
    "state = Statevector.from_instruction(qc)\n",
    "\n",
    "# --- Measure expected classification cost\n",
    "energy = np.real(state.expectation_value(hamiltonian))\n",
    "print(f\"Classification cost (energy): {energy}\")\n"
   ]
  }
 ],
 "metadata": {
  "kernelspec": {
   "display_name": "myenv",
   "language": "python",
   "name": "python3"
  },
  "language_info": {
   "codemirror_mode": {
    "name": "ipython",
    "version": 3
   },
   "file_extension": ".py",
   "mimetype": "text/x-python",
   "name": "python",
   "nbconvert_exporter": "python",
   "pygments_lexer": "ipython3",
   "version": "3.11.13"
  }
 },
 "nbformat": 4,
 "nbformat_minor": 5
}
