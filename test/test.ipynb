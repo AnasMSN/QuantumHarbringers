{
 "cells": [
  {
   "cell_type": "code",
   "execution_count": 7,
   "id": "1a19eeaf",
   "metadata": {},
   "outputs": [
    {
     "name": "stderr",
     "output_type": "stream",
     "text": [
      "/Users/hf/miniconda3/envs/myenv/lib/python3.11/site-packages/qiskit_ibm_runtime/qiskit_runtime_service.py:1129: UserWarning: IBM Quantum Platform is moving, and this version will be sunset on July 1. To get started on the new platform, read the migration guide at https://docs.quantum.ibm.com/migration-guides/classic-iqp-to-cloud-iqp\n",
      "  warnings.warn(warning_message)\n"
     ]
    },
    {
     "name": "stdout",
     "output_type": "stream",
     "text": [
      "PubResult(data=DataBin(evs=np.ndarray(<shape=(1,), dtype=float64>), stds=np.ndarray(<shape=(1,), dtype=float64>), ensemble_standard_error=np.ndarray(<shape=(1,), dtype=float64>), shape=(1,)), metadata={'shots': 4096, 'target_precision': 0.015625, 'circuit_metadata': {}, 'resilience': {}, 'num_randomizations': 32})\n"
     ]
    }
   ],
   "source": [
    "import sys\n",
    "import os\n",
    "sys.path.append(os.path.abspath(\"../sqd\"))\n",
    "from qiskit import QuantumCircuit\n",
    "from qiskit_runner_2_1 import QiskitRunner\n",
    "from qiskit.quantum_info import Pauli\n",
    "from qiskit.quantum_info import SparsePauliOp\n",
    "\n",
    "from dotenv import load_dotenv\n",
    "import os\n",
    "load_dotenv()\n",
    "\n",
    "token = os.getenv(\"QISKIT_TOKEN\")\n",
    "instance = os.getenv(\"QISKIT_INSTANCE\")\n",
    "\n",
    "qc = QuantumCircuit(2)\n",
    "qc.h(0)\n",
    "qc.cx(0, 1)\n",
    "\n",
    "observable = SparsePauliOp.from_list([(\"ZZ\", 1)])\n",
    "# runner = QiskitRunner(backend_type='fake')\n",
    "\n",
    "runner = QiskitRunner(backend_type='qpu', backend_name='ibmq_qasm_simulator', token=token, instance=instance)\n",
    "result = runner.run_circuit(qc, observables=[observable])\n",
    "print(result)\n"
   ]
  }
 ],
 "metadata": {
  "kernelspec": {
   "display_name": "myenv",
   "language": "python",
   "name": "python3"
  },
  "language_info": {
   "codemirror_mode": {
    "name": "ipython",
    "version": 3
   },
   "file_extension": ".py",
   "mimetype": "text/x-python",
   "name": "python",
   "nbconvert_exporter": "python",
   "pygments_lexer": "ipython3",
   "version": "undefined.undefined.undefined"
  }
 },
 "nbformat": 4,
 "nbformat_minor": 5
}
